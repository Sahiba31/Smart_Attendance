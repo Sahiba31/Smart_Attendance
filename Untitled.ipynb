{
 "cells": [
  {
   "cell_type": "code",
   "execution_count": 20,
   "metadata": {},
   "outputs": [],
   "source": [
    "import csv\n",
    "import cv2\n",
    "import os, shutil\n",
    "\n",
    "folder = \"TrainingUploads\"\n",
    "\n",
    "# Take image function\n",
    "def convertImages():\n",
    "    Id = input(\"Enter Your Id: \")\n",
    "    name = input(\"Enter Your Name: \")\n",
    "    sampleNum = 0\n",
    "\n",
    "    if(name.isalpha()):\n",
    "        harcascadePath = \"haarcascade_frontalface_default.xml\"\n",
    "        detector = cv2.CascadeClassifier(harcascadePath)\n",
    "\n",
    "        for filename in os.listdir(folder):\n",
    "            img = cv2.imread(os.path.join(folder,filename))\n",
    "            gray = cv2.cvtColor(img, cv2.COLOR_BGR2GRAY)\n",
    "            faces = detector.detectMultiScale(gray, 1.3, 5, minSize=(30,30),flags = cv2.CASCADE_SCALE_IMAGE)\n",
    "            for(x,y,w,h) in faces:\n",
    "                cv2.rectangle(img, (x, y), (x+w, y+h), (10, 159, 255), 2)\n",
    "                sampleNum = sampleNum+1\n",
    "                #saving the captured face in the dataset folder TrainingImage\n",
    "                cv2.imwrite(\"TrainingImage\" + os.sep +name + \".\"+Id + '.' +\n",
    "                            str(sampleNum) + \".jpg\", gray[y:y+h, x:x+w])\n",
    "        cv2.destroyAllWindows()\n",
    "        res = \"Images Saved for ID : \" + Id + \" Name : \" + name\n",
    "        row = [Id, name]\n",
    "        with open(\"StudentDetails\"+os.sep+\"StudentDetails.csv\", 'a+') as csvFile:\n",
    "            writer = csv.writer(csvFile)\n",
    "            writer.writerow(row)\n",
    "        csvFile.close()\n",
    "    else:\n",
    "        print(\"Enter Alphabetical Name\")\n",
    "    deleteExtras()\n",
    "  \n",
    "\n",
    "def deleteExtras():\n",
    "    for filename in os.listdir(folder):\n",
    "        file_path = os.path.join(folder, filename)\n",
    "        try:\n",
    "            if os.path.isfile(file_path) or os.path.islink(file_path):\n",
    "                os.unlink(file_path)\n",
    "            elif os.path.isdir(file_path):\n",
    "                shutil.rmtree(file_path)\n",
    "        except Exception as e:\n",
    "            print('Failed to delete %s. Reason: %s' % (file_path, e))"
   ]
  },
  {
   "cell_type": "code",
   "execution_count": 21,
   "metadata": {
    "scrolled": true
   },
   "outputs": [
    {
     "name": "stdout",
     "output_type": "stream",
     "text": [
      "Enter Your Id: 21\n",
      "Enter Your Name: Akshit\n"
     ]
    }
   ],
   "source": [
    "convertImages()"
   ]
  },
  {
   "cell_type": "code",
   "execution_count": 22,
   "metadata": {},
   "outputs": [],
   "source": [
    "import os\n",
    "import time\n",
    "import cv2\n",
    "import numpy as np\n",
    "from PIL import Image\n",
    "from threading import Thread\n",
    "\n",
    "\n",
    "\n",
    "# -------------- image labesl ------------------------\n",
    "\n",
    "def getImagesAndLabels(path):\n",
    "    # get the path of all the files in the folder\n",
    "    imagePaths = [os.path.join(path, f) for f in os.listdir(path)]\n",
    "    # print(imagePaths)\n",
    "\n",
    "    # create empth face list\n",
    "    faces = []\n",
    "    # create empty ID list\n",
    "    Ids = []\n",
    "    # now looping through all the image paths and loading the Ids and the images\n",
    "    for imagePath in imagePaths:\n",
    "        # loading the image and converting it to gray scale\n",
    "        pilImage = Image.open(imagePath).convert('L')\n",
    "        # Now we are converting the PIL image into numpy array\n",
    "        imageNp = np.array(pilImage, 'uint8')\n",
    "        # getting the Id from the image\n",
    "        Id = int(os.path.split(imagePath)[-1].split(\".\")[1])\n",
    "        # extract the face from the training image sample\n",
    "        faces.append(imageNp)\n",
    "        Ids.append(Id)\n",
    "    return faces, Ids\n",
    "\n",
    "\n",
    "# ----------- train images function ---------------\n",
    "def TrainImages():\n",
    "    recognizer = cv2.face_LBPHFaceRecognizer.create()\n",
    "    harcascadePath = \"haarcascade_frontalface_default.xml\"\n",
    "    detector = cv2.CascadeClassifier(harcascadePath)\n",
    "    faces, Id = getImagesAndLabels(\"TrainingImage\")\n",
    "    Thread(target = recognizer.train(faces, np.array(Id))).start()\n",
    "    # Below line is optional for a visual counter effect\n",
    "    Thread(target = counter_img(\"TrainingImage\")).start()\n",
    "    recognizer.save(\"TrainingImageLabel\"+os.sep+\"Trainner.yml\")\n",
    "    print(\"All Images\")\n",
    "\n",
    "# Optional, adds a counter for images trained (You can remove it)\n",
    "def counter_img(path):\n",
    "    imgcounter = 1\n",
    "    imagePaths = [os.path.join(path, f) for f in os.listdir(path)]\n",
    "    for imagePath in imagePaths:\n",
    "        print(str(imgcounter) + \" Images Trained\", end=\"\\r\")\n",
    "        time.sleep(0.008)\n",
    "        imgcounter += 1"
   ]
  },
  {
   "cell_type": "code",
   "execution_count": 23,
   "metadata": {
    "scrolled": true
   },
   "outputs": [
    {
     "name": "stdout",
     "output_type": "stream",
     "text": [
      "All ImagesTrained\n"
     ]
    }
   ],
   "source": [
    "TrainImages()"
   ]
  },
  {
   "cell_type": "code",
   "execution_count": 34,
   "metadata": {},
   "outputs": [],
   "source": [
    "import datetime\n",
    "import os\n",
    "import time\n",
    "import cv2\n",
    "import pandas as pd\n",
    "\n",
    "#-------------------------\n",
    "def recognize_attendence():\n",
    "    recognizer = cv2.face.LBPHFaceRecognizer_create()  # cv2.createLBPHFaceRecognizer()\n",
    "    recognizer.read(\"TrainingImageLabel\"+os.sep+\"Trainner.yml\")\n",
    "    harcascadePath = \"haarcascade_frontalface_default.xml\"\n",
    "    faceCascade = cv2.CascadeClassifier(harcascadePath)\n",
    "    df = pd.read_csv(\"StudentDetails\"+os.sep+\"StudentDetails.csv\")\n",
    "    font = cv2.FONT_HERSHEY_SIMPLEX\n",
    "    col_names = ['Id', 'Name', 'Date', 'Time']\n",
    "    attendance = pd.DataFrame(columns=col_names)\n",
    "    folder = \"AttendanceUploads\"\n",
    "\n",
    "    for filename in os.listdir(folder):\n",
    "        im = cv2.imread(os.path.join(folder,filename))\n",
    "        gray = cv2.cvtColor(im, cv2.COLOR_BGR2GRAY)\n",
    "        faces = faceCascade.detectMultiScale(gray, 1.2, 5,flags = cv2.CASCADE_SCALE_IMAGE)\n",
    "        for(x, y, w, h) in faces:\n",
    "            cv2.rectangle(im, (x, y), (x+w, y+h), (10, 159, 255), 2)\n",
    "            Id, conf = recognizer.predict(gray[y:y+h, x:x+w])\n",
    "\n",
    "            if conf < 100:\n",
    "\n",
    "                aa = df.loc[df['Id'] == Id]['Name'].values\n",
    "                confstr = \"  {0}%\".format(round(100 - conf))\n",
    "                tt = str(Id)+\"-\"+aa\n",
    "\n",
    "\n",
    "            else:\n",
    "                Id = '  Unknown  '\n",
    "                tt = str(Id)\n",
    "                confstr = \"  {0}%\".format(round(100 - conf))\n",
    "\n",
    "            if (100-conf) > 67:\n",
    "                ts = time.time()\n",
    "                date = datetime.datetime.fromtimestamp(ts).strftime('%Y-%m-%d')\n",
    "                timeStamp = datetime.datetime.fromtimestamp(ts).strftime('%H:%M:%S')\n",
    "                aa = str(aa)[2:-2]\n",
    "                attendance.loc[len(attendance)] = [Id, aa, date, timeStamp]\n",
    "\n",
    "            tt = str(tt)[2:-2]\n",
    "            if(100-conf) > 67:\n",
    "                tt = tt + \" [Pass]\"\n",
    "                cv2.putText(im, str(tt), (x+5,y-5), font, 1, (255, 255, 255), 2)\n",
    "            else:\n",
    "                cv2.putText(im, str(tt), (x + 5, y - 5), font, 1, (255, 255, 255), 2)\n",
    "\n",
    "            if (100-conf) > 67:\n",
    "                cv2.putText(im, str(confstr), (x + 5, y + h - 5), font,1, (0, 255, 0),1 )\n",
    "            elif (100-conf) > 50:\n",
    "                cv2.putText(im, str(confstr), (x + 5, y + h - 5), font, 1, (0, 255, 255), 1)\n",
    "            else:\n",
    "                cv2.putText(im, str(confstr), (x + 5, y + h - 5), font, 1, (0, 0, 255), 1)\n",
    "\n",
    "\n",
    "\n",
    "        attendance = attendance.drop_duplicates(subset=['Id'], keep='first')\n",
    "        if (cv2.waitKey(1) == ord('q')):\n",
    "            break\n",
    "    ts = time.time()\n",
    "    date = datetime.datetime.fromtimestamp(ts).strftime('%Y-%m-%d')\n",
    "    timeStamp = datetime.datetime.fromtimestamp(ts).strftime('%H:%M:%S')\n",
    "    Hour, Minute, Second = timeStamp.split(\":\")\n",
    "    fileName = \"Attendance\"+os.sep+\"Attendance_\"+date+\"_\"+Hour+\"-\"+Minute+\"-\"+Second+\".csv\"\n",
    "    attendance.to_csv(fileName, index=False)\n",
    "    print(\"Attendance Successful\")\n",
    "    cv2.destroyAllWindows()"
   ]
  },
  {
   "cell_type": "code",
   "execution_count": 35,
   "metadata": {},
   "outputs": [
    {
     "name": "stdout",
     "output_type": "stream",
     "text": [
      "Attendance Successful\n"
     ]
    }
   ],
   "source": [
    "recognize_attendence()"
   ]
  }
 ],
 "metadata": {
  "kernelspec": {
   "display_name": "Python 3",
   "language": "python",
   "name": "python3"
  },
  "language_info": {
   "codemirror_mode": {
    "name": "ipython",
    "version": 3
   },
   "file_extension": ".py",
   "mimetype": "text/x-python",
   "name": "python",
   "nbconvert_exporter": "python",
   "pygments_lexer": "ipython3",
   "version": "3.8.5"
  }
 },
 "nbformat": 4,
 "nbformat_minor": 4
}
